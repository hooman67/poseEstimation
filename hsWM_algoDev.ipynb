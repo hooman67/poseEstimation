{
 "cells": [
  {
   "cell_type": "code",
   "execution_count": 2,
   "metadata": {
    "code_folding": [
     0
    ],
    "scrolled": true
   },
   "outputs": [],
   "source": [
    "#Imports\n",
    "\n",
    "import numpy as np\n",
    "import os\n",
    "import shutil\n",
    "import openpyxl as oxl\n",
    "import six.moves.urllib as urllib\n",
    "import sys\n",
    "import tarfile\n",
    "import tensorflow as tf\n",
    "import zipfile\n",
    "from copy import deepcopy\n",
    "\n",
    "from datetime import datetime\n",
    "\n",
    "from collections import deque\n",
    "\n",
    "from collections import defaultdict\n",
    "from io import StringIO\n",
    "from matplotlib import pyplot as plt\n",
    "import matplotlib.ticker as plticker\n",
    "from PIL import Image\n",
    "import cv2\n",
    "\n",
    "import json\n",
    "import xml.etree.ElementTree as ET\n",
    "\n",
    "import collections\n",
    "\n",
    "# This is needed if the notebook is stored in the object_detection folder.\n",
    "sys.path.append(\"..\")\n",
    "from object_detection.utils import ops as utils_ops\n",
    "\n",
    "if tf.__version__ < '1.4.0':\n",
    "  raise ImportError('Please upgrade your tensorflow installation to v1.4.* or later!')\n",
    "\n",
    "#imports from object-detection module\n",
    "from object_detection.utils import label_map_util\n",
    "from object_detection.utils import visualization_utils as vis_util\n",
    "\n",
    "# This is needed to display the images.\n",
    "%matplotlib inline"
   ]
  },
  {
   "cell_type": "markdown",
   "metadata": {},
   "source": [
    "## Preparing WM logs using keyPoint detection and YOLO LSTM"
   ]
  },
  {
   "cell_type": "markdown",
   "metadata": {
    "heading_collapsed": true
   },
   "source": [
    "### Method Definitions"
   ]
  },
  {
   "cell_type": "code",
   "execution_count": 32,
   "metadata": {
    "code_folding": [
     0
    ],
    "hidden": true
   },
   "outputs": [],
   "source": [
    "def draw_patch_keypoints(image, patch_keypoints, validKeypoints = []):\n",
    "    colors = [[255, 255, 51], [0, 255, 0], [0, 0, 255], [255, 0, 0], [153, 255, 255]]\n",
    "    circle_radius=5\n",
    "\n",
    "    for i, joint_keypoint in enumerate(patch_keypoints):\n",
    "        x, y = joint_keypoint\n",
    "        \n",
    "        if x == 0 or y == 0:\n",
    "            continue\n",
    "            \n",
    "        if len(validKeypoints) > 1 and joint_keypoint not in validKeypoints:\n",
    "            continue\n",
    "\n",
    "        cv2.circle(image, (x, y), circle_radius, colors[i], -1)\n",
    "\n",
    "    return image"
   ]
  },
  {
   "cell_type": "code",
   "execution_count": 33,
   "metadata": {
    "code_folding": [
     0
    ],
    "hidden": true
   },
   "outputs": [],
   "source": [
    "def draw_fittedCurves_for1setOfKeypoints(image, setof_keypoints, esimatorFunction, colorNb=0):\n",
    "    #colors = [[204, 0, 204], [255, 255, 51], [255, 51, 255], [153, 51, 255], [255, 102, 255], [178, 102, 255]]\n",
    "    colors = [[255, 255, 51], [0, 255, 0], [0, 0, 255], [255, 0, 0], [153, 255, 255]]\n",
    "    \n",
    "    #pts = [[p[0], int(esimatorFunction(p[0]))] for p in setof_keypoints if(p[0] > 0 and p[1]>0)]\n",
    "    pts = [[indx, int(esimatorFunction(indx))] for indx in range(10, 600, 50)]\n",
    "    pts_np = np.array(pts, np.int32)\n",
    "    pts_np = pts_np.reshape((-1,1,2))\n",
    "    cv2.polylines(image,[pts_np],False,colors[colorNb])\n",
    "\n",
    "    return image"
   ]
  },
  {
   "cell_type": "code",
   "execution_count": 34,
   "metadata": {
    "code_folding": [
     0
    ],
    "hidden": true
   },
   "outputs": [],
   "source": [
    "def draw_box(image, box):\n",
    "    colors = [(0, 255, 0), (0, 255, 0), (255, 0, 0), (0, 0, 255), (255, 255, 0),(0, 255, 255)]\n",
    "    labels=[\"Tooth\", \"Toothline\", \"BucketBB\", \"MatInside\", \"WearArea\"]\n",
    "    image_h, image_w, _ = image.shape\n",
    "    \n",
    "    if len(box) > 3:\n",
    "        xmin = int(box[0] * image_w)\n",
    "        xmax = int(box[1] * image_w)\n",
    "        ymin = int(box[2] * image_h)\n",
    "        ymax = int(box[3] * image_h)\n",
    "        label, score = box[4:6]\n",
    "        #print(str(xmin) + '  ' + str(xmax) + '  '  + str(ymin) + '  ' + str(ymax) + '  ' + label)\n",
    "        \n",
    "        #add tooth length (from box) as a field\n",
    "        box.append(ymax-ymin)\n",
    "\n",
    "        if xmin < 0: xmin = 0\n",
    "        if ymin < 0: ymin = 0\n",
    "\n",
    "        color = colors[labels.index(label)]\n",
    "        cv2.rectangle(image, (xmin, ymin), (xmax, ymax), color, 2)\n",
    "\n",
    "        font_increase = 1.\n",
    "        cv2.putText(\n",
    "            image,\n",
    "            str(score),\n",
    "            (xmin, ymin - 6),\n",
    "            cv2.FONT_HERSHEY_SIMPLEX,\n",
    "            8e-4 * image_h * font_increase,\n",
    "            color, 2)\n",
    "\n",
    "    return image"
   ]
  },
  {
   "cell_type": "code",
   "execution_count": 35,
   "metadata": {
    "code_folding": [
     0
    ],
    "hidden": true
   },
   "outputs": [],
   "source": [
    "def draw_all_boxes(image, boxesDict):\n",
    "    for key in boxesDict.keys():\n",
    "        if 'keypoints' not in key and key not in ['nbOfDetectedTeeth','fileName', 'fittedCurves', '2ndDerivFittedCurves']:\n",
    "            image = draw_box(image, boxesDict[key])\n",
    "            \n",
    "    return image"
   ]
  },
  {
   "cell_type": "code",
   "execution_count": 36,
   "metadata": {
    "code_folding": [
     0
    ],
    "hidden": true
   },
   "outputs": [],
   "source": [
    "def draw_all_keypoints_boxes_andCurves(image, resultsDict, numberOfTeeth, drawOnlyValidated=False, numberOflandmarksIncludingToothTip = 5):\n",
    "\n",
    "    image = inImage\n",
    "    esimatorFunctions = resultsDict['fittedCurves']\n",
    "    \n",
    "    for toothNb in range(numberOfTeeth):\n",
    "        toothKeyPointKey = 'keypointsForTooth_' + str(toothNb + 1)\n",
    "        \n",
    "        if toothKeyPointKey in resultsDict:\n",
    "            \n",
    "            if drawOnlyValidated:\n",
    "                image = draw_patch_keypoints(image, resultsDict[toothKeyPointKey], resultsDict['validatedKeypoints'])\n",
    "            else:\n",
    "                image = draw_patch_keypoints(image, resultsDict[toothKeyPointKey], [])\n",
    "\n",
    "        \n",
    "    for keypointNb in range(numberOflandmarksIncludingToothTip):\n",
    "        toothKeyPointKey = 'keypoints_' + str(keypointNb + 1)\n",
    "        \n",
    "        if toothKeyPointKey in esimatorFunctions:\n",
    "            image = draw_fittedCurves_for1setOfKeypoints(image, resultsDict[toothKeyPointKey], esimatorFunctions[toothKeyPointKey], colorNb=keypointNb)\n",
    "\n",
    "        \n",
    "    if not drawOnlyValidated:\n",
    "        draw_all_boxes(image, resultsDict)\n",
    "\n",
    "    return image"
   ]
  },
  {
   "cell_type": "code",
   "execution_count": 37,
   "metadata": {
    "code_folding": [
     0
    ],
    "hidden": true
   },
   "outputs": [],
   "source": [
    "def dimg(framesDir, fileName, teethBoxes, keypoints):\n",
    "    inImage = cv2.imread(framesDir + fileName.replace('.json','.png'))\n",
    "    outImage = draw_all_keypoints(inImage, data[0], circle_radius=3)\n",
    "    outImage = draw_boxes(outImage, data[1]) \n",
    "    plt.imshow(outImage)\n",
    "    plt.show()"
   ]
  },
  {
   "cell_type": "code",
   "execution_count": 38,
   "metadata": {
    "code_folding": [
     0
    ],
    "hidden": true
   },
   "outputs": [],
   "source": [
    "def getFrameTime(resultsDict, resultsKey, fileName):\n",
    "    for timeKey in resultsDict[resultsKey].keys():\n",
    "        if fileName in resultsDict[resultsKey][timeKey]['fileName']:\n",
    "            print(timeKey)\n",
    "            print(resultsDict[resultsKey][timeKey]['fileName'])\n",
    "            print('\\n')\n",
    "            return timeKey\n",
    "    \n",
    "    print('could not find the requested file')\n",
    "    return None"
   ]
  },
  {
   "cell_type": "code",
   "execution_count": 39,
   "metadata": {
    "code_folding": [
     0
    ],
    "hidden": true
   },
   "outputs": [],
   "source": [
    "def loadResults(resultsDir, rawFramesDir=None):\n",
    "    #Load JSON prediciton results from disc into dict\n",
    "    resultsDirectories = []\n",
    "\n",
    "\n",
    "    \n",
    "    #for resultsDir in resultsDirectories:\n",
    "    resultsDir = wmsDir\n",
    "    resultKey = resultsDir.split('/')[-3]\n",
    "\n",
    "    \n",
    "    \n",
    "\n",
    "\n",
    "    resultsDic = {}\n",
    "\n",
    "    datetimemask = \"%Y.%m.%d %H.%M.%S\"\n",
    "    \n",
    "    resultsDic[resultKey] = {}\n",
    "\n",
    "    zeroTimeRef = None\n",
    "\n",
    "    for fileName in sorted(os.listdir(resultsDir)):\n",
    "        if fileName and '.json' in fileName:\n",
    "\n",
    "            fileNameAr = fileName[:len(fileName)-5].split('_')\n",
    "            time = fileNameAr[1] + ' ' + fileNameAr[2]\n",
    "            dateTime = datetime.strptime(time, datetimemask)\n",
    "\n",
    "            curHourSince = 0\n",
    "\n",
    "            if zeroTimeRef == None:\n",
    "                zeroTimeRef = dateTime\n",
    "            else:\n",
    "                timeDif = dateTime - zeroTimeRef\n",
    "                totalSeconds = timeDif.seconds\n",
    "                totalDays = timeDif.days\n",
    "                curHourSince = totalSeconds/3600 + totalDays*24\n",
    "\n",
    "\n",
    "\n",
    "            with open(resultsDir + fileName, 'r') as fjson:\n",
    "                data = tuple(json.load(fjson))\n",
    "                #print(fileName)\n",
    "\n",
    "                resultsDic[resultKey][curHourSince] = {}      \n",
    "                resultsDic[resultKey][curHourSince]['time'] = time\n",
    "                resultsDic[resultKey][curHourSince]['keypoints'] = data[0]\n",
    "                resultsDic[resultKey][curHourSince]['teeth'] = data[1]\n",
    "                resultsDic[resultKey][curHourSince]['buckets'] = data[2]\n",
    "                resultsDic[resultKey][curHourSince]['nbOfDetectedTeeth'] = len(data[1])\n",
    "                resultsDic[resultKey][curHourSince]['fileName'] = resultsDir + fileName.replace('.json', '.png')\n",
    "                \n",
    "\n",
    "\n",
    "            #print(resultsDic)\n",
    "            #dimg(rawFramesDir, fileName, data)\n",
    "            #break\n",
    "\n",
    "\n",
    "\n",
    "    print(\"loaded the results for  \" + str(len(resultsDic[resultKey])) + \"   frames. For key: \" + resultKey)\n",
    "    return resultsDic"
   ]
  },
  {
   "cell_type": "code",
   "execution_count": 40,
   "metadata": {
    "code_folding": [
     0
    ],
    "hidden": true
   },
   "outputs": [],
   "source": [
    "def parseResults(resultsDic, numberOfTeeth, numberOflandmarksIncludingToothTip = 5):\n",
    "    paresedResultsDict = {}\n",
    "    \n",
    "    for resKey in resultsDic.keys():\n",
    "        paresedResultsDict[resKey] = {}\n",
    "        \n",
    "        for time in resultsDic[resKey].keys():\n",
    "            paresedResultsDict[resKey][time] = {}\n",
    "            \n",
    "            paresedResultsDict[resKey][time]['nbOfDetectedTeeth'] = resultsDic[resKey][time]['nbOfDetectedTeeth'] \n",
    "            paresedResultsDict[resKey][time]['fileName'] = resultsDic[resKey][time]['fileName']\n",
    "            \n",
    "            #parse the bucket objects\n",
    "            for obj in resultsDic[resKey][time]['buckets']:\n",
    "                paresedResultsDict[resKey][time][obj[4]] = obj\n",
    "                \n",
    "            #parse the teeth \n",
    "            toothNb = 1\n",
    "            for obj in sorted(resultsDic[resKey][time]['teeth'], key=lambda rv: rv[0]):\n",
    "                paresedResultsDict[resKey][time]['Tooth_' + str(toothNb)] = obj\n",
    "                toothNb += 1\n",
    "                \n",
    "            toothNb = 1\n",
    "            for keypointsSet in sorted(resultsDic[resKey][time]['keypoints'], key=lambda kv: kv[0]):           \n",
    "                paresedResultsDict[resKey][time]['keypointsForTooth_' + str(toothNb)] = keypointsSet\n",
    "                toothNb += 1\n",
    "                \n",
    "                \n",
    "            for keypointsNb in range(numberOflandmarksIncludingToothTip):       \n",
    "                paresedResultsDict[resKey][time]['keypoints_' + str(keypointsNb + 1)] = [keypointsSet[keypointsNb] for keypointsSet in sorted(resultsDic[resKey][time]['keypoints'], key=lambda kv: kv[0])]\n",
    "            \n",
    "                \n",
    "    return paresedResultsDict"
   ]
  },
  {
   "cell_type": "code",
   "execution_count": 41,
   "metadata": {
    "code_folding": [
     0
    ],
    "hidden": true
   },
   "outputs": [],
   "source": [
    "def filterParsedResults(parsedResultsDic, rejectedResultsDir, numberOfTeeth):\n",
    "    filteredResults = deepcopy(parsedResultsDic)\n",
    "    \n",
    "    for resKey in parsedResultsDic.keys():\n",
    "        deletedCount = 0\n",
    "        for time in parsedResultsDic[resKey].keys():\n",
    "            \n",
    "            filePath = paresedResultsDict[resKey][time]['fileName']\n",
    "            fileName = filePath.split('/')[-1]\n",
    "            \n",
    "            #reject1 not enough teeth boxes detected.\n",
    "            if paresedResultsDict[resKey][time]['nbOfDetectedTeeth']  < numberOfTeeth:\n",
    "                shutil.copy(filePath, rejectedResultsDir)\n",
    "                print('\\nrejected:\\n' + str(filePath) + '\\nbecause not enough teeth (tips) were detected.')\n",
    "                del filteredResults[resKey][time]\n",
    "                deletedCount += 1\n",
    "\n",
    "\n",
    "            '''\n",
    "            #reject2 no wearArea detected\n",
    "            elif 'WearArea' not in paresedResultsDict[resKey][time].keys():\n",
    "                shutil.copy(filePath, rejectedResultsDir)\n",
    "                print('\\nrejected:\\n' + str(filePath) + '\\nbecause wearArea was not detected.')\n",
    "                del filteredResults[resKey][time]\n",
    "                deletedCount += 1\n",
    "            '''\n",
    "\n",
    "                \n",
    "        print('\\nfor results set: ' + resKey + '  rejected ' + str(deletedCount) + ' logs from the parsedResultsDic which were not copied into filteredResults.')\n",
    "        \n",
    "        return filteredResults"
   ]
  },
  {
   "cell_type": "code",
   "execution_count": 42,
   "metadata": {
    "code_folding": [
     0
    ],
    "hidden": true
   },
   "outputs": [],
   "source": [
    "def fitCurve2keypoints(keypoints, numberOfTeeth):\n",
    "    numberOflandmarksIncludingToothTip = 5\n",
    "    degreeOfPolyn = 2\n",
    "    minNumberOflandmarksNeededToFitCurve = 3\n",
    "    \n",
    "    estimatedFunctions = {}\n",
    "    \n",
    "    for landmarkNb in range(numberOflandmarksIncludingToothTip):\n",
    "        landmarkKey = 'keypoints_' + str(landmarkNb + 1)\n",
    "        \n",
    "        x = np.ndarray(shape=(1,))\n",
    "        y = np.ndarray(shape=(1,))\n",
    "        \n",
    "        for point in keypoints[landmarkKey]:\n",
    "            if(point[0] > 0 and point[1] > 0):\n",
    "                x = np.vstack([x, point[0]])\n",
    "                y = np.vstack([y, point[1]])\n",
    "            \n",
    "        x = x[1:,]\n",
    "        y = y[1:,]\n",
    "        x = x.reshape(-1)\n",
    "        y = y.reshape(-1)\n",
    "        \n",
    "        if len(x) >= minNumberOflandmarksNeededToFitCurve and len(y) >= minNumberOflandmarksNeededToFitCurve:\n",
    "            z = np.polyfit(x, y, degreeOfPolyn)\n",
    "\n",
    "            estimatedFunctions[landmarkKey] = np.poly1d(z)\n",
    "        \n",
    "    \n",
    "    return estimatedFunctions"
   ]
  },
  {
   "cell_type": "code",
   "execution_count": 43,
   "metadata": {
    "code_folding": [
     0
    ],
    "hidden": true
   },
   "outputs": [],
   "source": [
    "def get2ndDerivativeOfCurves(fittC):\n",
    "    secondDervs = {}\n",
    "    for key in fittC.keys():\n",
    "        secondDervs[key] = fittC[key].deriv().deriv().c[0]\n",
    "        \n",
    "    return secondDervs"
   ]
  },
  {
   "cell_type": "code",
   "execution_count": 44,
   "metadata": {
    "code_folding": [
     0
    ],
    "hidden": true
   },
   "outputs": [],
   "source": [
    "def removeBadCurvesAndKeyPoints(filteredResultsDict, path2saveCurves, rejectedPredsDir, curvDerivTreshDic):\n",
    "    \n",
    "    cleanedUpResultsDict = deepcopy(filteredResultsDict)\n",
    "    \n",
    "    for resKey in filteredResultsDict.keys():\n",
    "        deletedCount = 0\n",
    "        for time in filteredResultsDict[resKey].keys():\n",
    "            \n",
    "            fileName = filteredResultsDict[resKey][time]['fileName'].split('/')[-1]\n",
    "            filePath = path2saveCurves + fileName\n",
    "            \n",
    "            \n",
    "            for keypointsKey in curvDerivTreshDic.keys():\n",
    "                #reject1 no curve calculated for this keypoint type (because there was less than 2 of them)\n",
    "                if keypointsKey not in filteredResultsDict[resKey][time]['fittedCurves']:\n",
    "                    del(cleanedUpResultsDict[resKey][time][keypointsKey])\n",
    "\n",
    "                    #shutil.copy(filePath, rejectedPredsDir)\n",
    "                    print('\\nrejected:\\n' + str(filePath) + '\\nbecause no curve was fitted for this keypoint type.')\n",
    "                    deletedCount += 1\n",
    "                    \n",
    "                    \n",
    "            #reject2 2nd derivative of fitted curve for this keypoint type doesnt satisfy thresholds        \n",
    "            for keypointsKey in filteredResultsDict[resKey][time]['2ndDerivFittedCurves'].keys():\n",
    "                derivative = filteredResultsDict[resKey][time]['2ndDerivFittedCurves'][keypointsKey]\n",
    "                \n",
    "                if derivative < curvDerivTreshDic[keypointsKey][0]\\\n",
    "                or derivative > curvDerivTreshDic[keypointsKey][1]:\n",
    "                    \n",
    "                    if keypointsKey in cleanedUpResultsDict[resKey][time]:\n",
    "                        del(cleanedUpResultsDict[resKey][time][keypointsKey])\n",
    "                        del(cleanedUpResultsDict[resKey][time]['2ndDerivFittedCurves'][keypointsKey])\n",
    "                        del(cleanedUpResultsDict[resKey][time]['fittedCurves'][keypointsKey])\n",
    "\n",
    "                        shutil.copy(filePath, rejectedPredsDir)\n",
    "                        print('\\nrejected:\\n' + str(filePath) + '\\nbecause derivative of fitted curve didnt fit the criteria.')\n",
    "                        deletedCount += 1\n",
    "                        \n",
    "                        \n",
    "                        \n",
    "            #after the clean up, count all the valid (i.e remaining) keypoints\n",
    "            cleanedUpResultsDict[resKey][time]['validatedKeypoints'] = []\n",
    "            \n",
    "            for keypointsKey in cleanedUpResultsDict[resKey][time]['2ndDerivFittedCurves'].keys():\n",
    "                for keypoint in cleanedUpResultsDict[resKey][time][keypointsKey]:\n",
    "                    cleanedUpResultsDict[resKey][time]['validatedKeypoints'].append(keypoint)\n",
    "            \n",
    "\n",
    "\n",
    "                \n",
    "        print('\\nfor results set: ' + resKey + '  rejected ' + str(deletedCount) + ' keypoints from the filteredResults which were not copied into cleanedUpResultsDict.')\n",
    "        \n",
    "        return cleanedUpResultsDict"
   ]
  },
  {
   "cell_type": "code",
   "execution_count": 45,
   "metadata": {
    "code_folding": [
     0
    ],
    "hidden": true
   },
   "outputs": [],
   "source": [
    "def filterCleanedUpResults(cleanedUpResultsDict, rejectedResultsDir, numberOfTeeth):\n",
    "    finalResultsDict = deepcopy(cleanedUpResultsDict)\n",
    "    \n",
    "    for resKey in cleanedUpResultsDict.keys():\n",
    "        deletedCount = 0\n",
    "        for time in cleanedUpResultsDict[resKey].keys():\n",
    "            \n",
    "            filePath = cleanedUpResultsDict[resKey][time]['fileName']\n",
    "            fileName = filePath.split('/')[-1]\n",
    "            \n",
    "            #reject1 not enough teeth boxes + tips detected.\n",
    "            if 'keypoints_1' not in cleanedUpResultsDict[resKey][time] or\\\n",
    "            len([x for x in cleanedUpResultsDict[resKey][time]['keypoints_1'] if (x[0] == 0 and x[1] == 0)]) > 0:\n",
    "                \n",
    "                shutil.copy(filePath, rejectedResultsDir)\n",
    "                print('\\nrejected:\\n' + str(filePath) + '\\nbecause not enough toothTips were detected.')\n",
    "                del finalResultsDict[resKey][time]\n",
    "                deletedCount += 1\n",
    "\n",
    "                \n",
    "        print('\\nfor results set: ' + resKey + '  rejected ' + str(deletedCount) + ' logs from the cleanedUpResultsDict which were not copied into finalResultsDict.')\n",
    "        \n",
    "        return finalResultsDict"
   ]
  },
  {
   "cell_type": "markdown",
   "metadata": {
    "heading_collapsed": true
   },
   "source": [
    "### Loading the json prediction results into resultsDic, parsing, and filtering"
   ]
  },
  {
   "cell_type": "code",
   "execution_count": null,
   "metadata": {
    "code_folding": [
     0
    ],
    "hidden": true
   },
   "outputs": [],
   "source": [
    "#Load JSON prediciton results from disc into dict\n",
    "wmsDir = '/media/hooman/961293e3-04a5-40c5-afc0-2b205d0a7067/WM_PROJECT/algorithmDev/wmAlgo_usingWearLandmarsk_optical_hydraulics/try1/wmdlLogs_Pinto/yolo_preds/'\n",
    "\n",
    "rawFramesDir = '/media/hooman/961293e3-04a5-40c5-afc0-2b205d0a7067/WM_PROJECT/algorithmDev/wmAlgo_usingWearLandmarsk_optical_hydraulics/try1/wmdlLogs_Pinto/frame3Chan/'\n",
    "\n",
    "rejectedPredsDir = '/media/hooman/961293e3-04a5-40c5-afc0-2b205d0a7067/WM_PROJECT/algorithmDev/wmAlgo_usingWearLandmarsk_optical_hydraulics/try1/wmdlLogs_Pinto/rejected_notAllTeeth'\n",
    "\n",
    "\n",
    "resultsDict = loadResults(wmsDir)\n",
    "\n",
    "paresedResultsDict = parseResults(resultsDict, numberOfTeeth= 6)\n",
    "\n",
    "filteredResultsDict = filterParsedResults(paresedResultsDict, rejectedPredsDir, numberOfTeeth= 6)"
   ]
  },
  {
   "cell_type": "code",
   "execution_count": 47,
   "metadata": {
    "code_folding": [
     0
    ],
    "hidden": true,
    "scrolled": true
   },
   "outputs": [],
   "source": [
    "# For all frames: Fit curves to all landmarks, calculate curve derives, save the vis img, save res in filteredDict.\n",
    "path2saveCurves = '/media/hooman/961293e3-04a5-40c5-afc0-2b205d0a7067/WM_PROJECT/algorithmDev/wmAlgo_usingWearLandmarsk_optical_hydraulics/try1/wmdlLogs_Pinto/curves/'\n",
    "\n",
    "numberOfTeeth = 6\n",
    "\n",
    "for resKey in filteredResultsDict.keys():\n",
    "    for time in filteredResultsDict[resKey].keys():\n",
    "        fileName = filteredResultsDict[resKey][time]['fileName'].split('/')[-1]\n",
    "        \n",
    "        fittC = fitCurve2keypoints(filteredResultsDict[resKey][time], numberOfTeeth)\n",
    "        \n",
    "        filteredResultsDict[resKey][time]['fittedCurves'] = fittC\n",
    "        filteredResultsDict[resKey][time]['2ndDerivFittedCurves'] = get2ndDerivativeOfCurves(fittC)\n",
    "        \n",
    "        inImage = cv2.imread(rawFramesDir + fileName)\n",
    "\n",
    "        outImage =  draw_all_keypoints_boxes_andCurves(inImage, filteredResultsDict[resKey][time], numberOfTeeth)\n",
    "\n",
    "        cv2.imwrite(path2saveCurves + fileName, outImage)"
   ]
  },
  {
   "cell_type": "code",
   "execution_count": null,
   "metadata": {
    "code_folding": [
     0
    ],
    "hidden": true
   },
   "outputs": [],
   "source": [
    "# Remove bad curves and keypoints  from  filteredResultsDict\n",
    "path2saveRejectedCurves = '/media/hooman/961293e3-04a5-40c5-afc0-2b205d0a7067/WM_PROJECT/algorithmDev/wmAlgo_usingWearLandmarsk_optical_hydraulics/try1/wmdlLogs_Pinto/rejectedCurves/'\n",
    "\n",
    "curvDerivTreshDic = {\n",
    "    'keypoints_1' : [0.0001, 0.002],\n",
    "    'keypoints_2' : [0.0001, 0.002],\n",
    "    'keypoints_3' : [0.0001, 0.002],\n",
    "    'keypoints_4' : [0.0001, 0.002],\n",
    "    'keypoints_5' : [-0.0001, 0.002],\n",
    "}\n",
    "\n",
    "cleanedUpResultsDict = removeBadCurvesAndKeyPoints(filteredResultsDict, path2saveCurves, path2saveRejectedCurves, curvDerivTreshDic)"
   ]
  },
  {
   "cell_type": "code",
   "execution_count": null,
   "metadata": {
    "code_folding": [
     0
    ],
    "hidden": true
   },
   "outputs": [],
   "source": [
    "# Remove logs where we don't have all toothTips\n",
    "path2saveRejectedLogs = '/media/hooman/961293e3-04a5-40c5-afc0-2b205d0a7067/WM_PROJECT/algorithmDev/wmAlgo_usingWearLandmarsk_optical_hydraulics/try1/wmdlLogs_Pinto/rejected_notAllToothTips/'\n",
    "\n",
    "finalResultsDict = filterCleanedUpResults(cleanedUpResultsDict, path2saveRejectedLogs, numberOfTeeth= 6)"
   ]
  },
  {
   "cell_type": "code",
   "execution_count": 50,
   "metadata": {
    "code_folding": [
     0
    ],
    "hidden": true
   },
   "outputs": [],
   "source": [
    "# visualize the final cleaned up dict\n",
    "path2vis = '/media/hooman/961293e3-04a5-40c5-afc0-2b205d0a7067/WM_PROJECT/algorithmDev/wmAlgo_usingWearLandmarsk_optical_hydraulics/try1/wmdlLogs_Pinto/finalVis/'\n",
    "\n",
    "for resKey in finalResultsDict.keys():\n",
    "    for time in finalResultsDict[resKey].keys():\n",
    "        fileName = finalResultsDict[resKey][time]['fileName'].split('/')[-1]\n",
    " \n",
    "        inImage = cv2.imread(rawFramesDir + fileName)\n",
    "\n",
    "        outImage =  draw_all_keypoints_boxes_andCurves(inImage, finalResultsDict[resKey][time], 6, drawOnlyValidated=True)\n",
    "\n",
    "        cv2.imwrite(path2vis + fileName, outImage)"
   ]
  },
  {
   "cell_type": "code",
   "execution_count": null,
   "metadata": {
    "code_folding": [
     0
    ],
    "hidden": true
   },
   "outputs": [],
   "source": [
    "# (Debug) single image look at dic results\n",
    "resultsKey = 'wmdlLogs_Pinto'\n",
    "imgFileName = 'WMDL_2017.10.20_02.42.08.png'\n",
    "frameTime = getFrameTime(finalResultsDict, resultsKey, imgFileName)\n",
    "finalResultsDict['wmdlLogs_Pinto'][frameTime]"
   ]
  },
  {
   "cell_type": "markdown",
   "metadata": {
    "heading_collapsed": true
   },
   "source": [
    "## Looking at tooth Lengths from prepared WM logs"
   ]
  },
  {
   "cell_type": "markdown",
   "metadata": {
    "hidden": true
   },
   "source": [
    "### Method Definitions"
   ]
  },
  {
   "cell_type": "code",
   "execution_count": 67,
   "metadata": {
    "code_folding": [
     0
    ],
    "hidden": true
   },
   "outputs": [],
   "source": [
    "def getLandmarkOrApproxY(keypointsForThisTooth, fittedCurves):\n",
    "        ttY = keypointsForThisTooth[0][1]\n",
    "        ttX = keypointsForThisTooth[0][0]\n",
    "        lsY = keypointsForThisTooth[1][1]\n",
    "        leY = keypointsForThisTooth[2][1]\n",
    "        clY = keypointsForThisTooth[3][1]\n",
    "        bkY = keypointsForThisTooth[4][1]\n",
    "        \n",
    "        if not ttY or ttY <= 0:\n",
    "            print(\"error: missing tooth tip point landmark. Returning None. This should NOT happen\")\n",
    "            return None, None, None, None, None\n",
    "        \n",
    "        if not lsY or lsY <= 0:\n",
    "            if 'keypoints_2' in fittedCurves:\n",
    "                lsY = fittedCurves['keypoints_2'](ttX)\n",
    "            else:\n",
    "                lsY = None\n",
    "            \n",
    "        if not leY or leY <= 0:\n",
    "            if 'keypoints_3' in fittedCurves:\n",
    "                leY = fittedCurves['keypoints_3'](ttX)\n",
    "            else:\n",
    "                leY = None\n",
    "                \n",
    "        if not clY or clY <= 0:\n",
    "            if 'keypoints_4' in fittedCurves:\n",
    "                clY = fittedCurves['keypoints_4'](ttX)\n",
    "            else:\n",
    "                lsY = None\n",
    "                \n",
    "        if not bkY or bkY <= 0:\n",
    "            if 'keypoints_5' in fittedCurves:\n",
    "                bkY = fittedCurves['keypoints_5'](ttX)\n",
    "            else:\n",
    "                bkY = None\n",
    "\n",
    "   \n",
    "        return ttY, lsY, leY, clY, bkY"
   ]
  },
  {
   "cell_type": "code",
   "execution_count": 71,
   "metadata": {
    "code_folding": [
     0
    ],
    "hidden": true
   },
   "outputs": [],
   "source": [
    "def getAllLengthsForOneTooth(resDicForFrame, numberOfTeeth):\n",
    "    outDict = {}\n",
    "    \n",
    "    for i in range(numberOfTeeth):\n",
    "        toothKey = 'Tooth_' + str(i+1)\n",
    "        keypointKey = 'keypoints_' + str(i+1)\n",
    "        \n",
    "        ttY, lsY, leY, clY, bkY = getLandmarkOrApproxY(resDicForFrame['keypointsForTooth_' + str(i+1)], resDicForFrame['fittedCurves'])\n",
    "        \n",
    "        \n",
    "        \n",
    "        outDict['box'] = resDicForFrame[toothKey][6]\n",
    "        \n",
    "        \n",
    "        if lsY:\n",
    "            outDict['tt2ls'] = lsY - ttY\n",
    "        else:\n",
    "            print(\"Error:getToothLengths could not find the lipShroud point for this image for\\n\" + str(resDicForFrame) + '\\n' + toothKey + '\\n this should not have happened')\n",
    "        \n",
    "        \n",
    "        if leY:\n",
    "            outDict['ls2le'] = leY - lsY\n",
    "            if clY:\n",
    "                outDict['le2cl'] = clY - leY \n",
    "            if bkY:\n",
    "                outDict['le2bk'] = bkY - leY\n",
    "                                  \n",
    "                \n",
    "        if clY:\n",
    "            outDict['ls2cl'] = clY - lsY\n",
    "            if bkY:\n",
    "                outDict['cl2bk'] = bkY - clY\n",
    "                \n",
    "                        \n",
    "        if bkY:\n",
    "            outDict['ls2bk'] = bkY - lsY\n",
    "        \n",
    "        \n",
    " \n",
    "          \n",
    "    return outDict"
   ]
  },
  {
   "cell_type": "code",
   "execution_count": 72,
   "metadata": {
    "code_folding": [
     0
    ],
    "hidden": true
   },
   "outputs": [],
   "source": [
    "def getAllLengths(finalResultsDict, numberOfTeeth):\n",
    "    toothLengthsDict = {}\n",
    "    \n",
    "    for resKey in finalResultsDict.keys():\n",
    "        toothLengthsDict[resKey] = {}\n",
    "        for time in finalResultsDict[resKey].keys():\n",
    "            toothLengthsDict[resKey][time] = getAllLengthsForOneTooth(finalResultsDict[resKey][time], numberOfTeeth)\n",
    "                \n",
    "    return toothLengthsDict"
   ]
  },
  {
   "cell_type": "code",
   "execution_count": null,
   "metadata": {
    "hidden": true
   },
   "outputs": [],
   "source": []
  },
  {
   "cell_type": "markdown",
   "metadata": {
    "hidden": true
   },
   "source": [
    "### Plotting Lengths"
   ]
  },
  {
   "cell_type": "code",
   "execution_count": 74,
   "metadata": {
    "hidden": true
   },
   "outputs": [
    {
     "name": "stdout",
     "output_type": "stream",
     "text": [
      "Error:getToothLengths could not find the lipShroud point for this image for\n",
      "{'2ndDerivFittedCurves': {'keypoints_2': 0.0012255433914477414, 'keypoints_1': 0.001109213235491504, 'keypoints_5': 0.0003286690306350777}, 'Tooth_3': [0.3512862988525918, 0.4091341321879915, 0.5192430124320616, 0.6432697646655668, 'Tooth', '96', 59], 'Tooth_4': [0.49416271902660075, 0.5511463155601377, 0.5127016694551921, 0.6419128319031214, 'Tooth', '94', 62], 'keypointsForTooth_4': [[334, 248], [334, 300], [0, 0], [0, 0], [334, 381]], 'keypointsForTooth_1': [[73, 274], [80, 327], [0, 0], [0, 0], [0, 0]], 'fittedCurves': {'keypoints_1': poly1d([ 5.54606618e-04, -3.15069255e-01,  2.95313385e+02]), 'keypoints_5': poly1d([ 1.64334515e-04, -1.03229979e-01,  4.00245384e+02]), 'keypoints_2': poly1d([ 6.12771696e-04, -3.55439583e-01,  3.53309252e+02])}, 'keypointsForTooth_6': [[505, 276], [505, 329], [0, 0], [0, 0], [0, 0]], 'Tooth_1': [0.09845800083070762, 0.14701442467361456, 0.5739312995227702, 0.6853245607169994, 'Tooth', '92', 53], 'Tooth_5': [0.6307965461510575, 0.6899405513304627, 0.5439414122799977, 0.6753009487489803, 'Tooth', '98', 63], 'keypointsForTooth_5': [[422, 266], [422, 316], [0, 0], [0, 0], [422, 387]], 'keypointsForTooth_3': [[243, 250], [243, 301], [0, 0], [0, 0], [243, 388]], 'keypoints_5': [[0, 0], [157, 387], [243, 388], [334, 381], [422, 387], [0, 0]], 'keypoints_2': [[80, 327], [157, 317], [243, 301], [334, 300], [422, 316], [505, 329]], 'keypointsForTooth_2': [[157, 263], [157, 317], [0, 0], [0, 0], [157, 387]], 'Tooth_6': [0.7614953952058416, 0.8197289537414174, 0.5732760876997356, 0.6964422398789767, 'Tooth', '97', 59], 'keypoints_1': [[73, 274], [157, 263], [243, 250], [334, 248], [422, 266], [505, 276]], 'fileName': '/media/hooman/961293e3-04a5-40c5-afc0-2b205d0a7067/WM_PROJECT/algorithmDev/wmAlgo_usingWearLandmarsk_optical_hydraulics/try1/wmdlLogs_Pinto/yolo_preds/WMDL_2017.10.18_17.31.10.png', 'validatedKeypoints': [[73, 274], [157, 263], [243, 250], [334, 248], [422, 266], [505, 276], [0, 0], [157, 387], [243, 388], [334, 381], [422, 387], [0, 0], [80, 327], [157, 317], [243, 301], [334, 300], [422, 316], [505, 329]], 'Toothline': [0.09199631409807962, 0.8028030239240722, 0.5073499969831249, 0.6861017865529796, 'Toothline', '89', 86], 'BucketBB': [0.0016194374806582368, 0.9279384407050311, 0.5097316111100355, 0.9359832924378554, 'BucketBB', '84', 205], 'Tooth_2': [0.21721293269415207, 0.2735777430119068, 0.550423226611962, 0.6790536418727537, 'Tooth', '97', 61], 'nbOfDetectedTeeth': 6}\n",
      "Tooth_1\n",
      " this should not have happened\n"
     ]
    },
    {
     "ename": "TypeError",
     "evalue": "unsupported operand type(s) for -: 'float' and 'NoneType'",
     "output_type": "error",
     "traceback": [
      "\u001b[0;31m---------------------------------------------------------------------------\u001b[0m",
      "\u001b[0;31mTypeError\u001b[0m                                 Traceback (most recent call last)",
      "\u001b[0;32m<ipython-input-74-dde338fc6c27>\u001b[0m in \u001b[0;36m<module>\u001b[0;34m()\u001b[0m\n\u001b[0;32m----> 1\u001b[0;31m \u001b[0mlengthsDict\u001b[0m \u001b[0;34m=\u001b[0m \u001b[0mgetAllLengths\u001b[0m\u001b[0;34m(\u001b[0m\u001b[0mfinalResultsDict\u001b[0m\u001b[0;34m,\u001b[0m \u001b[0mnumberOfTeeth\u001b[0m\u001b[0;34m=\u001b[0m\u001b[0;36m6\u001b[0m\u001b[0;34m)\u001b[0m\u001b[0;34m\u001b[0m\u001b[0m\n\u001b[0m",
      "\u001b[0;32m<ipython-input-72-ef205e2b2348>\u001b[0m in \u001b[0;36mgetAllLengths\u001b[0;34m(finalResultsDict, numberOfTeeth)\u001b[0m\n\u001b[1;32m      5\u001b[0m         \u001b[0mtoothLengthsDict\u001b[0m\u001b[0;34m[\u001b[0m\u001b[0mresKey\u001b[0m\u001b[0;34m]\u001b[0m \u001b[0;34m=\u001b[0m \u001b[0;34m{\u001b[0m\u001b[0;34m}\u001b[0m\u001b[0;34m\u001b[0m\u001b[0m\n\u001b[1;32m      6\u001b[0m         \u001b[0;32mfor\u001b[0m \u001b[0mtime\u001b[0m \u001b[0;32min\u001b[0m \u001b[0mfinalResultsDict\u001b[0m\u001b[0;34m[\u001b[0m\u001b[0mresKey\u001b[0m\u001b[0;34m]\u001b[0m\u001b[0;34m.\u001b[0m\u001b[0mkeys\u001b[0m\u001b[0;34m(\u001b[0m\u001b[0;34m)\u001b[0m\u001b[0;34m:\u001b[0m\u001b[0;34m\u001b[0m\u001b[0m\n\u001b[0;32m----> 7\u001b[0;31m             \u001b[0mtoothLengthsDict\u001b[0m\u001b[0;34m[\u001b[0m\u001b[0mresKey\u001b[0m\u001b[0;34m]\u001b[0m\u001b[0;34m[\u001b[0m\u001b[0mtime\u001b[0m\u001b[0;34m]\u001b[0m \u001b[0;34m=\u001b[0m \u001b[0mgetAllLengthsForOneTooth\u001b[0m\u001b[0;34m(\u001b[0m\u001b[0mfinalResultsDict\u001b[0m\u001b[0;34m[\u001b[0m\u001b[0mresKey\u001b[0m\u001b[0;34m]\u001b[0m\u001b[0;34m[\u001b[0m\u001b[0mtime\u001b[0m\u001b[0;34m]\u001b[0m\u001b[0;34m,\u001b[0m \u001b[0mnumberOfTeeth\u001b[0m\u001b[0;34m)\u001b[0m\u001b[0;34m\u001b[0m\u001b[0m\n\u001b[0m\u001b[1;32m      8\u001b[0m \u001b[0;34m\u001b[0m\u001b[0m\n\u001b[1;32m      9\u001b[0m     \u001b[0;32mreturn\u001b[0m \u001b[0mtoothLengthsDict\u001b[0m\u001b[0;34m\u001b[0m\u001b[0m\n",
      "\u001b[0;32m<ipython-input-71-d0d18718a517>\u001b[0m in \u001b[0;36mgetAllLengthsForOneTooth\u001b[0;34m(resDicForFrame, numberOfTeeth)\u001b[0m\n\u001b[1;32m     34\u001b[0m \u001b[0;34m\u001b[0m\u001b[0m\n\u001b[1;32m     35\u001b[0m         \u001b[0;32mif\u001b[0m \u001b[0mbkY\u001b[0m\u001b[0;34m:\u001b[0m\u001b[0;34m\u001b[0m\u001b[0m\n\u001b[0;32m---> 36\u001b[0;31m             \u001b[0moutDict\u001b[0m\u001b[0;34m[\u001b[0m\u001b[0;34m'ls2bk'\u001b[0m\u001b[0;34m]\u001b[0m \u001b[0;34m=\u001b[0m \u001b[0mbkY\u001b[0m \u001b[0;34m-\u001b[0m \u001b[0mlsY\u001b[0m\u001b[0;34m\u001b[0m\u001b[0m\n\u001b[0m\u001b[1;32m     37\u001b[0m \u001b[0;34m\u001b[0m\u001b[0m\n\u001b[1;32m     38\u001b[0m \u001b[0;34m\u001b[0m\u001b[0m\n",
      "\u001b[0;31mTypeError\u001b[0m: unsupported operand type(s) for -: 'float' and 'NoneType'"
     ]
    }
   ],
   "source": [
    "lengthsDict = getAllLengths(finalResultsDict, numberOfTeeth=6)"
   ]
  },
  {
   "cell_type": "markdown",
   "metadata": {},
   "source": [
    "## Image 2 Image Registeration"
   ]
  },
  {
   "cell_type": "markdown",
   "metadata": {},
   "source": [
    "### Method Definitions"
   ]
  },
  {
   "cell_type": "code",
   "execution_count": 3,
   "metadata": {
    "code_folding": [
     0
    ]
   },
   "outputs": [],
   "source": [
    "def displayXmlPointsOnImage(img, xmlRoot):\n",
    "    img_name = xmlRoot.find('img_name').text[:-5]\n",
    "    toothTips = xmlRoot.find('toothTip')\n",
    "    lipShrouds = xmlRoot.find('lipShroud')\n",
    "    liftingEyes = xmlRoot.find('liftingEye')\n",
    "    castLips = xmlRoot.find('castLip')\n",
    "    bucketLandmarks = xmlRoot.find('bucketLandmark')\n",
    "    \n",
    "    displayPointOnImage(img, toothTips, 1)\n",
    "    displayPointOnImage(img, lipShrouds, 2)\n",
    "    displayPointOnImage(img, liftingEyes, 3)\n",
    "    displayPointOnImage(img, castLips, 4)\n",
    "    displayPointOnImage(img, bucketLandmarks, 5)"
   ]
  },
  {
   "cell_type": "code",
   "execution_count": 4,
   "metadata": {
    "code_folding": [
     0
    ]
   },
   "outputs": [],
   "source": [
    "def displayPointOnImage(img, points, lmNb):\n",
    "    colors = [(0, 255, 0), (255, 0, 0), (0, 0, 255), (255, 255, 0), (0, 255, 255)]\n",
    "    height, width, dim=img.shape\n",
    "    \n",
    "    for point in points:\n",
    "        xcor = int(float(point.get('x')) * width)\n",
    "        ycor = int(float(point.get('y') )* height)\n",
    "        \n",
    "        cv2.circle(img, (xcor, ycor), 5, colors[lmNb-1], -1)"
   ]
  },
  {
   "cell_type": "code",
   "execution_count": 5,
   "metadata": {
    "code_folding": [
     0
    ]
   },
   "outputs": [],
   "source": [
    "def displayPointsSetOnImage(img, points, color=0):\n",
    "    colors = [(0, 255, 0), (255, 0, 0), (0, 0, 255), (255, 255, 0), (0, 255, 255)]\n",
    "    for point in points[0]:\n",
    "        xcor = point[0]\n",
    "        ycor = point[1]\n",
    "        \n",
    "        cv2.circle(img, (xcor, ycor), 5, colors[color], -1)"
   ]
  },
  {
   "cell_type": "code",
   "execution_count": 6,
   "metadata": {
    "code_folding": [
     0
    ]
   },
   "outputs": [],
   "source": [
    "def getPointsSet(img, xmlRoot):\n",
    "    points = np.zeros((1, 30, 2), np.int32)\n",
    "    counter = 0\n",
    "    \n",
    "    height, width, dim=img.shape\n",
    "    \n",
    "    toothTips = xmlRoot.find('toothTip')\n",
    "    lipShrouds = xmlRoot.find('lipShroud')\n",
    "    liftingEyes = xmlRoot.find('liftingEye')\n",
    "    castLips = xmlRoot.find('castLip')\n",
    "    bucketLandmarks = xmlRoot.find('bucketLandmark')\n",
    "    \n",
    "    \n",
    "    for pp in toothTips:\n",
    "        xcor = int(float(pp.get('x')) * width)\n",
    "        ycor = int(float(pp.get('y') )* height)\n",
    "        points[0, counter, 0] = xcor\n",
    "        points[0, counter, 1] = ycor\n",
    "        counter+=1\n",
    "        \n",
    "    \n",
    "    for pp in lipShrouds:\n",
    "        xcor = int(float(pp.get('x')) * width)\n",
    "        ycor = int(float(pp.get('y') )* height)\n",
    "        points[0, counter, 0] = xcor\n",
    "        points[0, counter, 1] = ycor\n",
    "        counter+=1\n",
    "        \n",
    "        \n",
    "    for pp in liftingEyes:\n",
    "        xcor = int(float(pp.get('x')) * width)\n",
    "        ycor = int(float(pp.get('y') )* height)\n",
    "        points[0, counter, 0] = xcor\n",
    "        points[0, counter, 1] = ycor\n",
    "        counter+=1\n",
    "        \n",
    "        \n",
    "    for pp in castLips:\n",
    "        xcor = int(float(pp.get('x')) * width)\n",
    "        ycor = int(float(pp.get('y') )* height)\n",
    "        points[0, counter, 0] = xcor\n",
    "        points[0, counter, 1] = ycor\n",
    "        counter+=1\n",
    "        \n",
    "        \n",
    "    for pp in bucketLandmarks:\n",
    "        xcor = int(float(pp.get('x')) * width)\n",
    "        ycor = int(float(pp.get('y') )* height)\n",
    "        points[0, counter, 0] = xcor\n",
    "        points[0, counter, 1] = ycor\n",
    "        counter+=1\n",
    "        \n",
    "        \n",
    "    return points"
   ]
  },
  {
   "cell_type": "markdown",
   "metadata": {},
   "source": [
    "### Running the Registerations"
   ]
  },
  {
   "cell_type": "code",
   "execution_count": 7,
   "metadata": {
    "code_folding": [
     0
    ]
   },
   "outputs": [],
   "source": [
    "#load two images and landmark sets. \n",
    "\n",
    "imagesPathDir = '/media/hooman/961293e3-04a5-40c5-afc0-2b205d0a7067/WM_PROJECT/algorithmDev/wmAlgo_usingWearLandmarsk_optical_hydraulics/try1/imgRegisteration/images/'\n",
    "labelsPathDir = '/media/hooman/961293e3-04a5-40c5-afc0-2b205d0a7067/WM_PROJECT/algorithmDev/wmAlgo_usingWearLandmarsk_optical_hydraulics/try1/imgRegisteration/labels/'\n",
    "\n",
    "file1 = '1_20161116-074000_0001n0_9767'\n",
    "file2 = '1_20161116-152500_0001n0_783'\n",
    "\n",
    "img1 = cv2.imread(imagesPathDir + file1 + '.png')\n",
    "img2 = cv2.imread(imagesPathDir + file2 + '.png')\n",
    "\n",
    "root1 = ET.parse(labelsPathDir + file1 + '_landmarkCoords.xml').getroot()\n",
    "root2 = ET.parse(labelsPathDir + file2 + '_landmarkCoords.xml').getroot()\n",
    "\n",
    "landmarksSet1 = getPointsSet(img1, root1)\n",
    "landmarksSet2 = getPointsSet(img2, root2)"
   ]
  },
  {
   "cell_type": "code",
   "execution_count": null,
   "metadata": {
    "code_folding": [
     0
    ]
   },
   "outputs": [],
   "source": [
    "# Display loaded points on images \n",
    "displayXmlPointsOnImage(img1, root1)\n",
    "displayXmlPointsOnImage(img2, root2)\n",
    "\n",
    "plt.imshow(img1)\n",
    "plt.show()\n",
    "plt.imshow(img2)\n",
    "plt.show()"
   ]
  },
  {
   "cell_type": "code",
   "execution_count": null,
   "metadata": {
    "code_folding": [
     0
    ]
   },
   "outputs": [],
   "source": [
    "# Display loaded landmarks on images \n",
    "\n",
    "print('landmarksSet1')\n",
    "print(landmarksSet1[0,1:3,:])\n",
    "print('landmarksSet2')\n",
    "print(landmarksSet2[0,1:3,:])\n",
    "\n",
    "displayPointsSetOnImage(img1, landmarksSet1)\n",
    "displayPointsSetOnImage(img2, landmarksSet2)\n",
    "\n",
    "plt.imshow(img1)\n",
    "plt.show()\n",
    "plt.imshow(img2)\n",
    "plt.show()"
   ]
  },
  {
   "cell_type": "code",
   "execution_count": 11,
   "metadata": {
    "code_folding": [
     0
    ]
   },
   "outputs": [],
   "source": [
    "# Learn different transformations\n",
    "\n",
    "transformationRegid5D = cv2.estimateRigidTransform(landmarksSet1, landmarksSet2, False)\n",
    "transformationRegid6D = cv2.estimateRigidTransform(landmarksSet1, landmarksSet2, True)\n",
    "transformationHomo, mask = cv2.findHomography(landmarksSet1, landmarksSet2, cv2.RANSAC)"
   ]
  },
  {
   "cell_type": "code",
   "execution_count": null,
   "metadata": {
    "code_folding": [
     0
    ]
   },
   "outputs": [],
   "source": [
    "# warp image using learned transformation\n",
    "\n",
    "transImageRegid5D = cv2.warpAffine(img1, transformationRegid5D,(720, 480))\n",
    "transImageRegid6D = cv2.warpAffine(img1, transformationRegid6D,(720, 480))\n",
    "transImageHomo = cv2.warpPerspective(img1, transformationHomo, (720, 480))\n",
    "\n",
    "plt.imshow(transImageRegid5D)\n",
    "plt.title('transImageRegid5D')\n",
    "plt.show()\n",
    "plt.imshow(transImageRegid6D)\n",
    "plt.title('transImageRegid6D')\n",
    "plt.show()\n",
    "plt.imshow(transImageHomo)\n",
    "plt.title('transImageHomo')\n",
    "plt.show()"
   ]
  },
  {
   "cell_type": "code",
   "execution_count": null,
   "metadata": {
    "code_folding": [
     0
    ]
   },
   "outputs": [],
   "source": [
    "# Transform the landmark points using learned transformation\n",
    "\n",
    "transLandmarksRegid5D = cv2.transform(landmarksSet1, transformationRegid5D)\n",
    "transLandmarksRegid6D = cv2.transform(landmarksSet1, transformationRegid6D)\n",
    "transLandmarksHomo = cv2.transform(landmarksSet1, transformationHomo)\n",
    "\n",
    "displayPointsSetOnImage(img2, transLandmarksHomo, 1)\n",
    "displayPointsSetOnImage(img2, landmarksSet2, 0)\n",
    "\n",
    "plt.imshow(img2)\n",
    "plt.show()"
   ]
  },
  {
   "cell_type": "code",
   "execution_count": null,
   "metadata": {
    "code_folding": [
     0
    ]
   },
   "outputs": [],
   "source": [
    "# Comparing tooth lengths\n",
    "print('src:')\n",
    "print(landmarksSet1[0, 9, 1] - landmarksSet1[0, 3, 1])\n",
    "print('\\nTarget:')\n",
    "print(landmarksSet2[0, 9, 1] - landmarksSet2[0, 3, 1])\n",
    "print('\\nRegid5D:')\n",
    "print(transLandmarksRegid5D[0, 9, 1] - transLandmarksRegid5D[0, 3, 1])\n",
    "print('\\nRegid6D:')\n",
    "print(transLandmarksRegid6D[0, 9, 1] - transLandmarksRegid6D[0, 3, 1])\n",
    "print('\\nPerspective:')\n",
    "print(transLandmarksHomo[0, 9, 1] - transLandmarksHomo[0, 3, 1])"
   ]
  },
  {
   "cell_type": "markdown",
   "metadata": {
    "heading_collapsed": true
   },
   "source": [
    "#### RnD results"
   ]
  },
  {
   "cell_type": "code",
   "execution_count": 300,
   "metadata": {
    "code_folding": [],
    "collapsed": true,
    "hidden": true
   },
   "outputs": [
    {
     "data": {
      "image/png": "[encoded data removed]",
      "text/plain": [
       "<Figure size 432x288 with 1 Axes>"
      ]
     },
     "metadata": {},
     "output_type": "display_data"
    },
    {
     "data": {
      "image/png": "[encoded data removed]",
      "text/plain": [
       "<Figure size 432x288 with 1 Axes>"
      ]
     },
     "metadata": {},
     "output_type": "display_data"
    },
    {
     "data": {
      "image/png": "[encoded data removed]",
      "text/plain": [
       "<Figure size 432x288 with 1 Axes>"
      ]
     },
     "metadata": {},
     "output_type": "display_data"
    }
   ],
   "source": [
    "# warped images"
   ]
  },
  {
   "cell_type": "code",
   "execution_count": 299,
   "metadata": {
    "code_folding": [],
    "collapsed": true,
    "hidden": true
   },
   "outputs": [
    {
     "name": "stdout",
     "output_type": "stream",
     "text": [
      "src:\n",
      "58\n",
      "\n",
      "Target:\n",
      "75\n",
      "\n",
      "Regid5D:\n",
      "71\n",
      "\n",
      "Regid6D:\n",
      "74\n",
      "\n",
      "Perspective:\n",
      "89\n"
     ]
    }
   ],
   "source": [
    "# Tooth length resutls"
   ]
  },
  {
   "cell_type": "code",
   "execution_count": null,
   "metadata": {
    "hidden": true
   },
   "outputs": [],
   "source": [
    "k = cv2.findTransformECC(templateImage, inputImage, warpMatrix[, motionType[, criteria]]) → retval, warpMatrix"
   ]
  },
  {
   "cell_type": "markdown",
   "metadata": {
    "heading_collapsed": true
   },
   "source": [
    "# <font color='red'> Sandbox Area (DO NOT DELETE)"
   ]
  },
  {
   "cell_type": "code",
   "execution_count": null,
   "metadata": {
    "hidden": true
   },
   "outputs": [],
   "source": [
    "# Define termination criteria\n",
    "criteria = (cv2.TERM_CRITERIA_EPS | cv2.TERM_CRITERIA_COUNT, number_of_iterations,  termination_eps)\n",
    " \n",
    "# Run the ECC algorithm. The results are stored in warp_matrix.\n",
    "(cc, warp_matrix) = cv2.findTransformECC (im1_gray,im2_gray,warp_matrix, warp_mode, criteria)\n",
    " \n",
    "if warp_mode == cv2.MOTION_HOMOGRAPHY :\n",
    "    # Use warpPerspective for Homography \n",
    "    im2_aligned = cv2.warpPerspective (im2, warp_matrix, (sz[1],sz[0]), flags=cv2.INTER_LINEAR + cv2.WARP_INVERSE_MAP)\n",
    "else :\n",
    "    # Use warpAffine for Translation, Euclidean and Affine\n",
    "    im2_aligned = cv2.warpAffine(im2, warp_matrix, (sz[1],sz[0]), flags=cv2.INTER_LINEAR + cv2.WARP_INVERSE_MAP);\n",
    " "
   ]
  },
  {
   "cell_type": "code",
   "execution_count": null,
   "metadata": {
    "hidden": true
   },
   "outputs": [],
   "source": [
    "# no need. These take only 3 and 4 points (respectively) and solve an exact transformation (instead of an estimated one)\n",
    "\n",
    "transformationAffine = cv2.getAffineTransform(landmarksSet1, landmarksSet2)\n",
    "transformationPerspective = cv2.getPerspectiveTransform(landmarksSet1, landmarksSet2)"
   ]
  },
  {
   "cell_type": "raw",
   "metadata": {
    "hidden": true
   },
   "source": []
  },
  {
   "cell_type": "code",
   "execution_count": null,
   "metadata": {
    "hidden": true
   },
   "outputs": [],
   "source": []
  },
  {
   "cell_type": "code",
   "execution_count": null,
   "metadata": {
    "hidden": true
   },
   "outputs": [],
   "source": []
  },
  {
   "cell_type": "code",
   "execution_count": null,
   "metadata": {
    "hidden": true
   },
   "outputs": [],
   "source": []
  },
  {
   "cell_type": "code",
   "execution_count": null,
   "metadata": {
    "hidden": true
   },
   "outputs": [],
   "source": []
  },
  {
   "cell_type": "code",
   "execution_count": 280,
   "metadata": {
    "hidden": true
   },
   "outputs": [
    {
     "name": "stdout",
     "output_type": "stream",
     "text": [
      "loaded the results for  2   frames. For key: imgRegisteration\n"
     ]
    }
   ],
   "source": [
    "#Load JSON prediciton results from disc into dict\n",
    "wmsDir = '/media/hooman/961293e3-04a5-40c5-afc0-2b205d0a7067/WM_PROJECT/algorithmDev/wmAlgo_usingWearLandmarsk_optical_hydraulics/try1/imgRegisteration/temp2/'\n",
    "\n",
    "rawFramesDir = '/media/hooman/961293e3-04a5-40c5-afc0-2b205d0a7067/WM_PROJECT/algorithmDev/wmAlgo_usingWearLandmarsk_optical_hydraulics/try1/imgRegisteration/temp/'\n",
    "\n",
    "resultsDict = loadResults(wmsDir)\n",
    "\n",
    "paresedResultsDict = parseResults(resultsDict, numberOfTeeth= 6)"
   ]
  },
  {
   "cell_type": "code",
   "execution_count": 255,
   "metadata": {
    "hidden": true
   },
   "outputs": [
    {
     "data": {
      "text/plain": [
       "True"
      ]
     },
     "execution_count": 255,
     "metadata": {},
     "output_type": "execute_result"
    }
   ],
   "source": [
    "cv2.imwrite('/media/hooman/961293e3-04a5-40c5-afc0-2b205d0a7067/WM_PROJECT/algorithmDev/wmAlgo_usingWearLandmarsk_optical_hydraulics/try1/imgRegisteration/5Dwarped.png', transImage)"
   ]
  },
  {
   "cell_type": "code",
   "execution_count": null,
   "metadata": {
    "code_folding": [
     0
    ],
    "hidden": true
   },
   "outputs": [],
   "source": [
    "# (Debug) single frame of above : Fit curves to landmarks and plot them for a single frame\n",
    "resultsKey = 'wmdlLogs_Pinto'\n",
    "imgFileName = 'WMDL_2017.10.18_22.53.03.png'\n",
    "logNb = getFrameTime(filteredResultsDict, resultsKey, imgFileName)\n",
    "\n",
    "\n",
    "fittC = fitCurve2keypoints(filteredResultsDict[resultsKey][logNb], 6)\n",
    "\n",
    "inImage = cv2.imread(wmsDir + imgFileName)\n",
    "\n",
    "outImage =  draw_all_keypoints_boxes_andCurves(inImage, filteredResultsDict[resultsKey][logNb], fittC, 6)\n",
    "\n",
    "plt.imshow(outImage)\n",
    "plt.show()\n",
    "\n",
    "for key in fittC.keys():\n",
    "    print(key)\n",
    "    print(fittC[key].deriv().deriv().c[0])"
   ]
  },
  {
   "cell_type": "code",
   "execution_count": null,
   "metadata": {
    "code_folding": [],
    "hidden": true
   },
   "outputs": [],
   "source": [
    "# calculate the second derivative of a curve. For validation.\n",
    "secondDerivative = fittC['keypoints_4'].deriv().deriv().c[0]"
   ]
  }
 ],
 "metadata": {
  "colab": {
   "version": "0.3.2"
  },
  "kernelspec": {
   "display_name": "Python 3",
   "language": "python",
   "name": "python3"
  },
  "language_info": {
   "codemirror_mode": {
    "name": "ipython",
    "version": 3
   },
   "file_extension": ".py",
   "mimetype": "text/x-python",
   "name": "python",
   "nbconvert_exporter": "python",
   "pygments_lexer": "ipython3",
   "version": "3.5.5"
  },
  "widgets": {
   "state": {},
   "version": "1.1.2"
  }
 },
 "nbformat": 4,
 "nbformat_minor": 2
}
